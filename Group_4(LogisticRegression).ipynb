{
  "cells": [
    {
      "cell_type": "markdown",
      "metadata": {
        "id": "view-in-github",
        "colab_type": "text"
      },
      "source": [
        "<a href=\"https://colab.research.google.com/github/amir-asari/SEBB4083-Assignment2023/blob/main/Group_4(LogisticRegression).ipynb\" target=\"_parent\"><img src=\"https://colab.research.google.com/assets/colab-badge.svg\" alt=\"Open In Colab\"/></a>"
      ]
    },
    {
      "cell_type": "markdown",
      "metadata": {
        "id": "jSoW_qF-DEkF"
      },
      "source": [
        "#Group Assignment 2 (5%)\n",
        "### Total marks: 30\n",
        "\n",
        "### Group No: 4\n",
        "\n",
        "###Group Members:\n",
        "1)Nur Arifah Ummaimah Binti Mohd Rosli\n",
        "\n",
        "2)Nur Aisyah Maisarah Binti Zaini\n",
        "\n",
        "3)Shasmita Dev A/P Ramesh\n",
        "\n",
        "4)Parrvathavarthini A/P Paramasivam\n",
        "\n",
        "5)Al-Chnani Hayder Adnan Abed\n",
        "\n",
        "6)Nabihah Binti Zulkarnain\n",
        "\n",
        "In this assignment, you need to apply logistic regression using Prima Indian Diabetis dataset. Note: You can use any appropriate Python libraries for this assignment, such as pandas, numpy, scikit-learn, matplotlib, and seaborn."
      ]
    },
    {
      "cell_type": "markdown",
      "metadata": {
        "id": "Zy2cvcOsEMcd"
      },
      "source": [
        "####(Step 1) Load the Pima Indian Diabetes dataset into Python using pandas library [2 marks]"
      ]
    },
    {
      "cell_type": "code",
      "execution_count": null,
      "metadata": {
        "colab": {
          "base_uri": "https://localhost:8080/"
        },
        "id": "Q2hpOX-MDD2v",
        "outputId": "70cf1880-fbd3-46ca-c2df-b308e6f9223e"
      },
      "outputs": [
        {
          "output_type": "stream",
          "name": "stdout",
          "text": [
            "    Pregnancies  Glucose  BloodPressure  SkinThickness  Insulin   BMI  \\\n",
            "0             6      148             72             35        0  33.6   \n",
            "1             1       85             66             29        0  26.6   \n",
            "2             8      183             64              0        0  23.3   \n",
            "3             1       89             66             23       94  28.1   \n",
            "4             0      137             40             35      168  43.1   \n",
            "5             5      116             74              0        0  25.6   \n",
            "6             3       78             50             32       88  31.0   \n",
            "7            10      115              0              0        0  35.3   \n",
            "8             2      197             70             45      543  30.5   \n",
            "9             8      125             96              0        0   0.0   \n",
            "10            4      110             92              0        0  37.6   \n",
            "11           10      168             74              0        0  38.0   \n",
            "12           10      139             80              0        0  27.1   \n",
            "13            1      189             60             23      846  30.1   \n",
            "14            5      166             72             19      175  25.8   \n",
            "15            7      100              0              0        0  30.0   \n",
            "16            0      118             84             47      230  45.8   \n",
            "17            7      107             74              0        0  29.6   \n",
            "18            1      103             30             38       83  43.3   \n",
            "19            1      115             70             30       96  34.6   \n",
            "20            3      126             88             41      235  39.3   \n",
            "21            8       99             84              0        0  35.4   \n",
            "22            7      196             90              0        0  39.8   \n",
            "23            9      119             80             35        0  29.0   \n",
            "24           11      143             94             33      146  36.6   \n",
            "25           10      125             70             26      115  31.1   \n",
            "26            7      147             76              0        0  39.4   \n",
            "27            1       97             66             15      140  23.2   \n",
            "28           13      145             82             19      110  22.2   \n",
            "29            5      117             92              0        0  34.1   \n",
            "30            5      109             75             26        0  36.0   \n",
            "31            3      158             76             36      245  31.6   \n",
            "32            3       88             58             11       54  24.8   \n",
            "33            6       92             92              0        0  19.9   \n",
            "34           10      122             78             31        0  27.6   \n",
            "35            4      103             60             33      192  24.0   \n",
            "36           11      138             76              0        0  33.2   \n",
            "37            9      102             76             37        0  32.9   \n",
            "38            2       90             68             42        0  38.2   \n",
            "39            4      111             72             47      207  37.1   \n",
            "40            3      180             64             25       70  34.0   \n",
            "41            7      133             84              0        0  40.2   \n",
            "42            7      106             92             18        0  22.7   \n",
            "43            9      171            110             24      240  45.4   \n",
            "44            7      159             64              0        0  27.4   \n",
            "45            0      180             66             39        0  42.0   \n",
            "46            1      146             56              0        0  29.7   \n",
            "47            2       71             70             27        0  28.0   \n",
            "48            7      103             66             32        0  39.1   \n",
            "49            7      105              0              0        0   0.0   \n",
            "\n",
            "    DiabetesPedigreeFunction  Age  Outcome  \n",
            "0                      0.627   50        1  \n",
            "1                      0.351   31        0  \n",
            "2                      0.672   32        1  \n",
            "3                      0.167   21        0  \n",
            "4                      2.288   33        1  \n",
            "5                      0.201   30        0  \n",
            "6                      0.248   26        1  \n",
            "7                      0.134   29        0  \n",
            "8                      0.158   53        1  \n",
            "9                      0.232   54        1  \n",
            "10                     0.191   30        0  \n",
            "11                     0.537   34        1  \n",
            "12                     1.441   57        0  \n",
            "13                     0.398   59        1  \n",
            "14                     0.587   51        1  \n",
            "15                     0.484   32        1  \n",
            "16                     0.551   31        1  \n",
            "17                     0.254   31        1  \n",
            "18                     0.183   33        0  \n",
            "19                     0.529   32        1  \n",
            "20                     0.704   27        0  \n",
            "21                     0.388   50        0  \n",
            "22                     0.451   41        1  \n",
            "23                     0.263   29        1  \n",
            "24                     0.254   51        1  \n",
            "25                     0.205   41        1  \n",
            "26                     0.257   43        1  \n",
            "27                     0.487   22        0  \n",
            "28                     0.245   57        0  \n",
            "29                     0.337   38        0  \n",
            "30                     0.546   60        0  \n",
            "31                     0.851   28        1  \n",
            "32                     0.267   22        0  \n",
            "33                     0.188   28        0  \n",
            "34                     0.512   45        0  \n",
            "35                     0.966   33        0  \n",
            "36                     0.420   35        0  \n",
            "37                     0.665   46        1  \n",
            "38                     0.503   27        1  \n",
            "39                     1.390   56        1  \n",
            "40                     0.271   26        0  \n",
            "41                     0.696   37        0  \n",
            "42                     0.235   48        0  \n",
            "43                     0.721   54        1  \n",
            "44                     0.294   40        0  \n",
            "45                     1.893   25        1  \n",
            "46                     0.564   29        0  \n",
            "47                     0.586   22        0  \n",
            "48                     0.344   31        1  \n",
            "49                     0.305   24        0  \n"
          ]
        }
      ],
      "source": [
        "## (write your codes here)\n",
        "import pandas as pd\n",
        "\n",
        "# Load the dataset using pandas\n",
        "dataset = pd.read_csv('diabetes.csv')\n",
        "# Display the first few rows of the dataset\n",
        "print(dataset.head(50))\n",
        "\n",
        "\n"
      ]
    },
    {
      "cell_type": "markdown",
      "metadata": {
        "id": "VW9JF4suEfW3"
      },
      "source": [
        "####(Step 2) Preprocess the data to clean, remove null values, and normalize if needed. [4 marks]"
      ]
    },
    {
      "cell_type": "code",
      "execution_count": null,
      "metadata": {
        "colab": {
          "base_uri": "https://localhost:8080/"
        },
        "id": "rEZ8L1YUEsnd",
        "outputId": "85f74e1a-e302-45d3-ef77-d31e1f469866"
      },
      "outputs": [
        {
          "output_type": "execute_result",
          "data": {
            "text/plain": [
              "Pregnancies                 False\n",
              "Glucose                     False\n",
              "BloodPressure               False\n",
              "SkinThickness               False\n",
              "Insulin                     False\n",
              "BMI                         False\n",
              "DiabetesPedigreeFunction    False\n",
              "Age                         False\n",
              "Outcome                     False\n",
              "dtype: bool"
            ]
          },
          "metadata": {},
          "execution_count": 3
        }
      ],
      "source": [
        "## Check for missing values\n",
        "dataset.isnull().any()"
      ]
    },
    {
      "cell_type": "code",
      "execution_count": null,
      "metadata": {
        "id": "TPxwrMWECpiB"
      },
      "outputs": [],
      "source": [
        "## No null values in the dataset"
      ]
    },
    {
      "cell_type": "code",
      "execution_count": null,
      "metadata": {
        "colab": {
          "base_uri": "https://localhost:8080/"
        },
        "id": "_NgH2eF7Enyc",
        "outputId": "ac477980-0a7f-424e-c366-c7c23fea7252"
      },
      "outputs": [
        {
          "output_type": "stream",
          "name": "stdout",
          "text": [
            "<class 'pandas.core.frame.DataFrame'>\n",
            "RangeIndex: 768 entries, 0 to 767\n",
            "Data columns (total 9 columns):\n",
            " #   Column                    Non-Null Count  Dtype  \n",
            "---  ------                    --------------  -----  \n",
            " 0   Pregnancies               768 non-null    int64  \n",
            " 1   Glucose                   768 non-null    int64  \n",
            " 2   BloodPressure             768 non-null    int64  \n",
            " 3   SkinThickness             768 non-null    int64  \n",
            " 4   Insulin                   768 non-null    int64  \n",
            " 5   BMI                       768 non-null    float64\n",
            " 6   DiabetesPedigreeFunction  768 non-null    float64\n",
            " 7   Age                       768 non-null    int64  \n",
            " 8   Outcome                   768 non-null    int64  \n",
            "dtypes: float64(2), int64(7)\n",
            "memory usage: 54.1 KB\n"
          ]
        }
      ],
      "source": [
        "## Show more informations on the dataset\n",
        "dataset.info()"
      ]
    },
    {
      "cell_type": "code",
      "execution_count": null,
      "metadata": {
        "id": "CWdhny7HGPQK"
      },
      "outputs": [],
      "source": [
        "## Feature scaling to normalize the range of independent variables\n",
        "from sklearn.preprocessing import StandardScaler\n",
        "## Splitting the data into independent (X) and dependant (y) variables.\n",
        "\n",
        "X = dataset.iloc[:,:-1] #Variables\n",
        "\n",
        "y = dataset.iloc[:, 8] # Outcome\n",
        "\n",
        "sc = StandardScaler()\n",
        "X = sc.fit_transform(X)\n"
      ]
    },
    {
      "cell_type": "markdown",
      "metadata": {
        "id": "l61gDZjpEwFI"
      },
      "source": [
        "####(Step 3) Split the dataset into training and testing subsets. Use 1) 50:50; 2)70:30; 3)80:20; and 4)90:10 ratio of training to testing data. [4 marks]"
      ]
    },
    {
      "cell_type": "code",
      "execution_count": null,
      "metadata": {
        "id": "r9iS5p85E6Ov"
      },
      "outputs": [],
      "source": [
        "from sklearn.model_selection import train_test_split\n",
        "\n",
        "# X is the input features, y is the target variable\n",
        "X_train, X_test, y_train, y_test = train_test_split(X, y, test_size=0.5, random_state=42)\n",
        "X_train, X_test, y_train, y_test = train_test_split(X, y, test_size=0.3, random_state=42)\n",
        "X_train, X_test, y_train, y_test = train_test_split(X, y, test_size=0.2, random_state=42)\n",
        "X_train, X_test, y_train, y_test = train_test_split(X, y, test_size=0.1, random_state=42)\n",
        "\n",
        "\n",
        "\n"
      ]
    },
    {
      "cell_type": "markdown",
      "metadata": {
        "id": "PRviVhOGBSf7"
      },
      "source": [
        "####(Step 4) Perform logistic regression on the training data and show the training accuracy. [4 marks]"
      ]
    },
    {
      "cell_type": "code",
      "execution_count": null,
      "metadata": {
        "id": "Sh5NwFE6Baaj",
        "colab": {
          "base_uri": "https://localhost:8080/"
        },
        "outputId": "9418c9db-71f1-4353-c144-ffd0d27d3635"
      },
      "outputs": [
        {
          "output_type": "stream",
          "name": "stdout",
          "text": [
            "Training Accuracy: 0.7756874095513748\n"
          ]
        }
      ],
      "source": [
        "from sklearn.linear_model import LogisticRegression\n",
        "from sklearn.metrics import accuracy_score\n",
        "\n",
        "# Create a logistic regression object\n",
        "logreg = LogisticRegression(max_iter=1000)\n",
        "\n",
        "# Fit the model to the training data\n",
        "logreg.fit(X_train, y_train)\n",
        "\n",
        "# Predict labels for the training data\n",
        "y_train_pred = logreg.predict(X_train)\n",
        "\n",
        "# Calculate the training accuracy\n",
        "training_accuracy = accuracy_score(y_train, y_train_pred)\n",
        "\n",
        "# Print the training accuracy\n",
        "print(\"Training Accuracy:\", training_accuracy)"
      ]
    },
    {
      "cell_type": "markdown",
      "metadata": {
        "id": "gSJlEmHWBgG7"
      },
      "source": [
        "####(Step 5) Use the trained model to make predictions on the testing data. [4 marks]"
      ]
    },
    {
      "cell_type": "code",
      "source": [
        "from sklearn.linear_model import LogisticRegression\n",
        "\n",
        "logreg = LogisticRegression(max_iter=1000)\n",
        "logreg.fit(X_train, y_train)\n",
        "y_pred = logreg.predict(X_test)\n",
        "result = pd.DataFrame({'Actual' : y_test, 'Predicted' : y_pred})\n",
        "print(result)\n",
        "\n"
      ],
      "metadata": {
        "colab": {
          "base_uri": "https://localhost:8080/"
        },
        "id": "LlpxPx6nPAmd",
        "outputId": "dc2a1bff-8601-4cb1-8944-fc8aadef9ade"
      },
      "execution_count": null,
      "outputs": [
        {
          "output_type": "stream",
          "name": "stdout",
          "text": [
            "     Actual  Predicted\n",
            "668       0          0\n",
            "324       0          0\n",
            "624       0          0\n",
            "690       0          0\n",
            "473       0          0\n",
            "..      ...        ...\n",
            "512       0          0\n",
            "109       1          0\n",
            "587       0          0\n",
            "362       0          0\n",
            "734       0          0\n",
            "\n",
            "[77 rows x 2 columns]\n"
          ]
        }
      ]
    },
    {
      "cell_type": "code",
      "source": [
        "residuals = y_test - y_pred\n",
        "print(\"Residuals:\")\n",
        "print(residuals)"
      ],
      "metadata": {
        "colab": {
          "base_uri": "https://localhost:8080/"
        },
        "id": "TgOFYCF4Sb8A",
        "outputId": "c12c1a97-e0d0-468c-c7b9-9a1f844bd25d"
      },
      "execution_count": null,
      "outputs": [
        {
          "output_type": "stream",
          "name": "stdout",
          "text": [
            "Residuals:\n",
            "668    0\n",
            "324    0\n",
            "624    0\n",
            "690    0\n",
            "473    0\n",
            "      ..\n",
            "512    0\n",
            "109    1\n",
            "587    0\n",
            "362    0\n",
            "734    0\n",
            "Name: Outcome, Length: 77, dtype: int64\n"
          ]
        }
      ]
    },
    {
      "cell_type": "markdown",
      "metadata": {
        "id": "5zeGXuPyEUXS"
      },
      "source": [
        "####(Step 6) Evaluate the model's performance using appropriate metrics such as accuracy, true positive rate and true negative rate. [8 marks]"
      ]
    },
    {
      "cell_type": "code",
      "source": [
        "from sklearn.metrics import confusion_matrix\n",
        "\n",
        "# Set a threshold in order to convert continuous values to binary categories if presented in the dataset\n",
        "threshold = 0.5\n",
        "y_test_binary = (y_test >= threshold).astype(int)    # Convert y_test and y_pred to binary categories using the threshold\n",
        "y_pred_binary = (y_pred >= threshold).astype(int)    # Convert y_test and y_pred to binary categories using the threshold\n",
        "\n",
        "# Calculate the confusion matrix\n",
        "cf_matrix = confusion_matrix(y_test_binary, y_pred_binary)\n",
        "print(cf_matrix)\n",
        "\n",
        "Accuracy = (36 + 18)/(36+ 14 + 9 + 18)\n",
        "Accuracy\n",
        "from sklearn.metrics import accuracy_score\n",
        "accuracy_score(y_test_binary,y_pred_binary)\n",
        "#70% accuracy of the model\n"
      ],
      "metadata": {
        "colab": {
          "base_uri": "https://localhost:8080/"
        },
        "id": "r08VfVtESwZe",
        "outputId": "58fcb306-8efc-482c-99ac-fd2b70183e54"
      },
      "execution_count": null,
      "outputs": [
        {
          "output_type": "stream",
          "name": "stdout",
          "text": [
            "[[36 14]\n",
            " [ 9 18]]\n"
          ]
        },
        {
          "output_type": "execute_result",
          "data": {
            "text/plain": [
              "0.7012987012987013"
            ]
          },
          "metadata": {},
          "execution_count": 8
        }
      ]
    },
    {
      "cell_type": "markdown",
      "metadata": {
        "id": "bYoW0Qq-EctS"
      },
      "source": [
        "####(Step 7) Visualize the model's performance using appropriate charts such as a confusion matrix. [4 marks]"
      ]
    },
    {
      "cell_type": "code",
      "execution_count": null,
      "metadata": {
        "id": "Zcrr_zwIEl6q",
        "colab": {
          "base_uri": "https://localhost:8080/",
          "height": 375
        },
        "outputId": "2580177f-f461-4749-e897-030dc795c0b6"
      },
      "outputs": [
        {
          "output_type": "execute_result",
          "data": {
            "text/plain": [
              "                          Pregnancies   Glucose  BloodPressure  SkinThickness  \\\n",
              "Pregnancies                  1.000000  0.129459       0.141282      -0.081672   \n",
              "Glucose                      0.129459  1.000000       0.152590       0.057328   \n",
              "BloodPressure                0.141282  0.152590       1.000000       0.207371   \n",
              "SkinThickness               -0.081672  0.057328       0.207371       1.000000   \n",
              "Insulin                     -0.073535  0.331357       0.088933       0.436783   \n",
              "BMI                          0.017683  0.221071       0.281805       0.392573   \n",
              "DiabetesPedigreeFunction    -0.033523  0.137337       0.041265       0.183928   \n",
              "Age                          0.544341  0.263514       0.239528      -0.113970   \n",
              "Outcome                      0.221898  0.466581       0.065068       0.074752   \n",
              "\n",
              "                           Insulin       BMI  DiabetesPedigreeFunction  \\\n",
              "Pregnancies              -0.073535  0.017683                 -0.033523   \n",
              "Glucose                   0.331357  0.221071                  0.137337   \n",
              "BloodPressure             0.088933  0.281805                  0.041265   \n",
              "SkinThickness             0.436783  0.392573                  0.183928   \n",
              "Insulin                   1.000000  0.197859                  0.185071   \n",
              "BMI                       0.197859  1.000000                  0.140647   \n",
              "DiabetesPedigreeFunction  0.185071  0.140647                  1.000000   \n",
              "Age                      -0.042163  0.036242                  0.033561   \n",
              "Outcome                   0.130548  0.292695                  0.173844   \n",
              "\n",
              "                               Age   Outcome  \n",
              "Pregnancies               0.544341  0.221898  \n",
              "Glucose                   0.263514  0.466581  \n",
              "BloodPressure             0.239528  0.065068  \n",
              "SkinThickness            -0.113970  0.074752  \n",
              "Insulin                  -0.042163  0.130548  \n",
              "BMI                       0.036242  0.292695  \n",
              "DiabetesPedigreeFunction  0.033561  0.173844  \n",
              "Age                       1.000000  0.238356  \n",
              "Outcome                   0.238356  1.000000  "
            ],
            "text/html": [
              "\n",
              "  <div id=\"df-945b34f8-405e-4547-9e46-6ab46797262f\">\n",
              "    <div class=\"colab-df-container\">\n",
              "      <div>\n",
              "<style scoped>\n",
              "    .dataframe tbody tr th:only-of-type {\n",
              "        vertical-align: middle;\n",
              "    }\n",
              "\n",
              "    .dataframe tbody tr th {\n",
              "        vertical-align: top;\n",
              "    }\n",
              "\n",
              "    .dataframe thead th {\n",
              "        text-align: right;\n",
              "    }\n",
              "</style>\n",
              "<table border=\"1\" class=\"dataframe\">\n",
              "  <thead>\n",
              "    <tr style=\"text-align: right;\">\n",
              "      <th></th>\n",
              "      <th>Pregnancies</th>\n",
              "      <th>Glucose</th>\n",
              "      <th>BloodPressure</th>\n",
              "      <th>SkinThickness</th>\n",
              "      <th>Insulin</th>\n",
              "      <th>BMI</th>\n",
              "      <th>DiabetesPedigreeFunction</th>\n",
              "      <th>Age</th>\n",
              "      <th>Outcome</th>\n",
              "    </tr>\n",
              "  </thead>\n",
              "  <tbody>\n",
              "    <tr>\n",
              "      <th>Pregnancies</th>\n",
              "      <td>1.000000</td>\n",
              "      <td>0.129459</td>\n",
              "      <td>0.141282</td>\n",
              "      <td>-0.081672</td>\n",
              "      <td>-0.073535</td>\n",
              "      <td>0.017683</td>\n",
              "      <td>-0.033523</td>\n",
              "      <td>0.544341</td>\n",
              "      <td>0.221898</td>\n",
              "    </tr>\n",
              "    <tr>\n",
              "      <th>Glucose</th>\n",
              "      <td>0.129459</td>\n",
              "      <td>1.000000</td>\n",
              "      <td>0.152590</td>\n",
              "      <td>0.057328</td>\n",
              "      <td>0.331357</td>\n",
              "      <td>0.221071</td>\n",
              "      <td>0.137337</td>\n",
              "      <td>0.263514</td>\n",
              "      <td>0.466581</td>\n",
              "    </tr>\n",
              "    <tr>\n",
              "      <th>BloodPressure</th>\n",
              "      <td>0.141282</td>\n",
              "      <td>0.152590</td>\n",
              "      <td>1.000000</td>\n",
              "      <td>0.207371</td>\n",
              "      <td>0.088933</td>\n",
              "      <td>0.281805</td>\n",
              "      <td>0.041265</td>\n",
              "      <td>0.239528</td>\n",
              "      <td>0.065068</td>\n",
              "    </tr>\n",
              "    <tr>\n",
              "      <th>SkinThickness</th>\n",
              "      <td>-0.081672</td>\n",
              "      <td>0.057328</td>\n",
              "      <td>0.207371</td>\n",
              "      <td>1.000000</td>\n",
              "      <td>0.436783</td>\n",
              "      <td>0.392573</td>\n",
              "      <td>0.183928</td>\n",
              "      <td>-0.113970</td>\n",
              "      <td>0.074752</td>\n",
              "    </tr>\n",
              "    <tr>\n",
              "      <th>Insulin</th>\n",
              "      <td>-0.073535</td>\n",
              "      <td>0.331357</td>\n",
              "      <td>0.088933</td>\n",
              "      <td>0.436783</td>\n",
              "      <td>1.000000</td>\n",
              "      <td>0.197859</td>\n",
              "      <td>0.185071</td>\n",
              "      <td>-0.042163</td>\n",
              "      <td>0.130548</td>\n",
              "    </tr>\n",
              "    <tr>\n",
              "      <th>BMI</th>\n",
              "      <td>0.017683</td>\n",
              "      <td>0.221071</td>\n",
              "      <td>0.281805</td>\n",
              "      <td>0.392573</td>\n",
              "      <td>0.197859</td>\n",
              "      <td>1.000000</td>\n",
              "      <td>0.140647</td>\n",
              "      <td>0.036242</td>\n",
              "      <td>0.292695</td>\n",
              "    </tr>\n",
              "    <tr>\n",
              "      <th>DiabetesPedigreeFunction</th>\n",
              "      <td>-0.033523</td>\n",
              "      <td>0.137337</td>\n",
              "      <td>0.041265</td>\n",
              "      <td>0.183928</td>\n",
              "      <td>0.185071</td>\n",
              "      <td>0.140647</td>\n",
              "      <td>1.000000</td>\n",
              "      <td>0.033561</td>\n",
              "      <td>0.173844</td>\n",
              "    </tr>\n",
              "    <tr>\n",
              "      <th>Age</th>\n",
              "      <td>0.544341</td>\n",
              "      <td>0.263514</td>\n",
              "      <td>0.239528</td>\n",
              "      <td>-0.113970</td>\n",
              "      <td>-0.042163</td>\n",
              "      <td>0.036242</td>\n",
              "      <td>0.033561</td>\n",
              "      <td>1.000000</td>\n",
              "      <td>0.238356</td>\n",
              "    </tr>\n",
              "    <tr>\n",
              "      <th>Outcome</th>\n",
              "      <td>0.221898</td>\n",
              "      <td>0.466581</td>\n",
              "      <td>0.065068</td>\n",
              "      <td>0.074752</td>\n",
              "      <td>0.130548</td>\n",
              "      <td>0.292695</td>\n",
              "      <td>0.173844</td>\n",
              "      <td>0.238356</td>\n",
              "      <td>1.000000</td>\n",
              "    </tr>\n",
              "  </tbody>\n",
              "</table>\n",
              "</div>\n",
              "      <button class=\"colab-df-convert\" onclick=\"convertToInteractive('df-945b34f8-405e-4547-9e46-6ab46797262f')\"\n",
              "              title=\"Convert this dataframe to an interactive table.\"\n",
              "              style=\"display:none;\">\n",
              "        \n",
              "  <svg xmlns=\"http://www.w3.org/2000/svg\" height=\"24px\"viewBox=\"0 0 24 24\"\n",
              "       width=\"24px\">\n",
              "    <path d=\"M0 0h24v24H0V0z\" fill=\"none\"/>\n",
              "    <path d=\"M18.56 5.44l.94 2.06.94-2.06 2.06-.94-2.06-.94-.94-2.06-.94 2.06-2.06.94zm-11 1L8.5 8.5l.94-2.06 2.06-.94-2.06-.94L8.5 2.5l-.94 2.06-2.06.94zm10 10l.94 2.06.94-2.06 2.06-.94-2.06-.94-.94-2.06-.94 2.06-2.06.94z\"/><path d=\"M17.41 7.96l-1.37-1.37c-.4-.4-.92-.59-1.43-.59-.52 0-1.04.2-1.43.59L10.3 9.45l-7.72 7.72c-.78.78-.78 2.05 0 2.83L4 21.41c.39.39.9.59 1.41.59.51 0 1.02-.2 1.41-.59l7.78-7.78 2.81-2.81c.8-.78.8-2.07 0-2.86zM5.41 20L4 18.59l7.72-7.72 1.47 1.35L5.41 20z\"/>\n",
              "  </svg>\n",
              "      </button>\n",
              "      \n",
              "  <style>\n",
              "    .colab-df-container {\n",
              "      display:flex;\n",
              "      flex-wrap:wrap;\n",
              "      gap: 12px;\n",
              "    }\n",
              "\n",
              "    .colab-df-convert {\n",
              "      background-color: #E8F0FE;\n",
              "      border: none;\n",
              "      border-radius: 50%;\n",
              "      cursor: pointer;\n",
              "      display: none;\n",
              "      fill: #1967D2;\n",
              "      height: 32px;\n",
              "      padding: 0 0 0 0;\n",
              "      width: 32px;\n",
              "    }\n",
              "\n",
              "    .colab-df-convert:hover {\n",
              "      background-color: #E2EBFA;\n",
              "      box-shadow: 0px 1px 2px rgba(60, 64, 67, 0.3), 0px 1px 3px 1px rgba(60, 64, 67, 0.15);\n",
              "      fill: #174EA6;\n",
              "    }\n",
              "\n",
              "    [theme=dark] .colab-df-convert {\n",
              "      background-color: #3B4455;\n",
              "      fill: #D2E3FC;\n",
              "    }\n",
              "\n",
              "    [theme=dark] .colab-df-convert:hover {\n",
              "      background-color: #434B5C;\n",
              "      box-shadow: 0px 1px 3px 1px rgba(0, 0, 0, 0.15);\n",
              "      filter: drop-shadow(0px 1px 2px rgba(0, 0, 0, 0.3));\n",
              "      fill: #FFFFFF;\n",
              "    }\n",
              "  </style>\n",
              "\n",
              "      <script>\n",
              "        const buttonEl =\n",
              "          document.querySelector('#df-945b34f8-405e-4547-9e46-6ab46797262f button.colab-df-convert');\n",
              "        buttonEl.style.display =\n",
              "          google.colab.kernel.accessAllowed ? 'block' : 'none';\n",
              "\n",
              "        async function convertToInteractive(key) {\n",
              "          const element = document.querySelector('#df-945b34f8-405e-4547-9e46-6ab46797262f');\n",
              "          const dataTable =\n",
              "            await google.colab.kernel.invokeFunction('convertToInteractive',\n",
              "                                                     [key], {});\n",
              "          if (!dataTable) return;\n",
              "\n",
              "          const docLinkHtml = 'Like what you see? Visit the ' +\n",
              "            '<a target=\"_blank\" href=https://colab.research.google.com/notebooks/data_table.ipynb>data table notebook</a>'\n",
              "            + ' to learn more about interactive tables.';\n",
              "          element.innerHTML = '';\n",
              "          dataTable['output_type'] = 'display_data';\n",
              "          await google.colab.output.renderOutput(dataTable, element);\n",
              "          const docLink = document.createElement('div');\n",
              "          docLink.innerHTML = docLinkHtml;\n",
              "          element.appendChild(docLink);\n",
              "        }\n",
              "      </script>\n",
              "    </div>\n",
              "  </div>\n",
              "  "
            ]
          },
          "metadata": {},
          "execution_count": 11
        }
      ],
      "source": [
        "\n",
        "dataset.corr()"
      ]
    },
    {
      "cell_type": "code",
      "source": [
        "import seaborn as sns\n",
        "import matplotlib.pyplot as plt\n",
        "sns.heatmap(pd.DataFrame(cf_matrix), annot=True)\n",
        "plt.title('Confusion matrix')\n",
        "plt.ylabel('Actual label')\n",
        "plt.xlabel('Predicted label')"
      ],
      "metadata": {
        "colab": {
          "base_uri": "https://localhost:8080/",
          "height": 489
        },
        "id": "X-nvoIoDNEqG",
        "outputId": "0f8f8c59-7155-4c6e-9808-6f77ca794267"
      },
      "execution_count": null,
      "outputs": [
        {
          "output_type": "execute_result",
          "data": {
            "text/plain": [
              "Text(0.5, 23.52222222222222, 'Predicted label')"
            ]
          },
          "metadata": {},
          "execution_count": 10
        },
        {
          "output_type": "display_data",
          "data": {
            "text/plain": [
              "<Figure size 640x480 with 2 Axes>"
            ],
            "image/png": "[encoded data removed]"
          },
          "metadata": {}
        }
      ]
    }
  ],
  "metadata": {
    "colab": {
      "provenance": [],
      "include_colab_link": true
    },
    "kernelspec": {
      "display_name": "Python 3",
      "name": "python3"
    },
    "language_info": {
      "name": "python"
    }
  },
  "nbformat": 4,
  "nbformat_minor": 0
}