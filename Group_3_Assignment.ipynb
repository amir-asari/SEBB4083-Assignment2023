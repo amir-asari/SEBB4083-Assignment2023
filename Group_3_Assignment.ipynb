{
  "cells": [
    {
      "cell_type": "markdown",
      "metadata": {
        "id": "view-in-github",
        "colab_type": "text"
      },
      "source": [
        "<a href=\"https://colab.research.google.com/github/amir-asari/SEBB4083-Assignment2023/blob/main/Group_3_Assignment.ipynb\" target=\"_parent\"><img src=\"https://colab.research.google.com/assets/colab-badge.svg\" alt=\"Open In Colab\"/></a>"
      ]
    },
    {
      "cell_type": "markdown",
      "metadata": {
        "id": "p-lo8PBLdRHC"
      },
      "source": [
        "(Step 1) Load the Pima Indian Diabetes dataset into Python using pandas library"
      ]
    },
    {
      "cell_type": "code",
      "execution_count": 1,
      "metadata": {
        "colab": {
          "base_uri": "https://localhost:8080/",
          "height": 363
        },
        "id": "_Apl0GsvwDqF",
        "outputId": "d4d13d37-fb32-4b1e-f995-3911e46737c3"
      },
      "outputs": [
        {
          "output_type": "execute_result",
          "data": {
            "text/plain": [
              "     Pregnancies  Glucose  BloodPressure  SkinThickness  Insulin   BMI  \\\n",
              "0              6      148             72             35        0  33.6   \n",
              "1              1       85             66             29        0  26.6   \n",
              "2              8      183             64              0        0  23.3   \n",
              "3              1       89             66             23       94  28.1   \n",
              "4              0      137             40             35      168  43.1   \n",
              "763           10      101             76             48      180  32.9   \n",
              "764            2      122             70             27        0  36.8   \n",
              "765            5      121             72             23      112  26.2   \n",
              "766            1      126             60              0        0  30.1   \n",
              "767            1       93             70             31        0  30.4   \n",
              "\n",
              "     DiabetesPedigreeFunction  Age  Outcome  \n",
              "0                       0.627   50        1  \n",
              "1                       0.351   31        0  \n",
              "2                       0.672   32        1  \n",
              "3                       0.167   21        0  \n",
              "4                       2.288   33        1  \n",
              "763                     0.171   63        0  \n",
              "764                     0.340   27        0  \n",
              "765                     0.245   30        0  \n",
              "766                     0.349   47        1  \n",
              "767                     0.315   23        0  "
            ],
            "text/html": [
              "\n",
              "  <div id=\"df-088319b7-df68-4b44-b324-08e0b14457f1\">\n",
              "    <div class=\"colab-df-container\">\n",
              "      <div>\n",
              "<style scoped>\n",
              "    .dataframe tbody tr th:only-of-type {\n",
              "        vertical-align: middle;\n",
              "    }\n",
              "\n",
              "    .dataframe tbody tr th {\n",
              "        vertical-align: top;\n",
              "    }\n",
              "\n",
              "    .dataframe thead th {\n",
              "        text-align: right;\n",
              "    }\n",
              "</style>\n",
              "<table border=\"1\" class=\"dataframe\">\n",
              "  <thead>\n",
              "    <tr style=\"text-align: right;\">\n",
              "      <th></th>\n",
              "      <th>Pregnancies</th>\n",
              "      <th>Glucose</th>\n",
              "      <th>BloodPressure</th>\n",
              "      <th>SkinThickness</th>\n",
              "      <th>Insulin</th>\n",
              "      <th>BMI</th>\n",
              "      <th>DiabetesPedigreeFunction</th>\n",
              "      <th>Age</th>\n",
              "      <th>Outcome</th>\n",
              "    </tr>\n",
              "  </thead>\n",
              "  <tbody>\n",
              "    <tr>\n",
              "      <th>0</th>\n",
              "      <td>6</td>\n",
              "      <td>148</td>\n",
              "      <td>72</td>\n",
              "      <td>35</td>\n",
              "      <td>0</td>\n",
              "      <td>33.6</td>\n",
              "      <td>0.627</td>\n",
              "      <td>50</td>\n",
              "      <td>1</td>\n",
              "    </tr>\n",
              "    <tr>\n",
              "      <th>1</th>\n",
              "      <td>1</td>\n",
              "      <td>85</td>\n",
              "      <td>66</td>\n",
              "      <td>29</td>\n",
              "      <td>0</td>\n",
              "      <td>26.6</td>\n",
              "      <td>0.351</td>\n",
              "      <td>31</td>\n",
              "      <td>0</td>\n",
              "    </tr>\n",
              "    <tr>\n",
              "      <th>2</th>\n",
              "      <td>8</td>\n",
              "      <td>183</td>\n",
              "      <td>64</td>\n",
              "      <td>0</td>\n",
              "      <td>0</td>\n",
              "      <td>23.3</td>\n",
              "      <td>0.672</td>\n",
              "      <td>32</td>\n",
              "      <td>1</td>\n",
              "    </tr>\n",
              "    <tr>\n",
              "      <th>3</th>\n",
              "      <td>1</td>\n",
              "      <td>89</td>\n",
              "      <td>66</td>\n",
              "      <td>23</td>\n",
              "      <td>94</td>\n",
              "      <td>28.1</td>\n",
              "      <td>0.167</td>\n",
              "      <td>21</td>\n",
              "      <td>0</td>\n",
              "    </tr>\n",
              "    <tr>\n",
              "      <th>4</th>\n",
              "      <td>0</td>\n",
              "      <td>137</td>\n",
              "      <td>40</td>\n",
              "      <td>35</td>\n",
              "      <td>168</td>\n",
              "      <td>43.1</td>\n",
              "      <td>2.288</td>\n",
              "      <td>33</td>\n",
              "      <td>1</td>\n",
              "    </tr>\n",
              "    <tr>\n",
              "      <th>763</th>\n",
              "      <td>10</td>\n",
              "      <td>101</td>\n",
              "      <td>76</td>\n",
              "      <td>48</td>\n",
              "      <td>180</td>\n",
              "      <td>32.9</td>\n",
              "      <td>0.171</td>\n",
              "      <td>63</td>\n",
              "      <td>0</td>\n",
              "    </tr>\n",
              "    <tr>\n",
              "      <th>764</th>\n",
              "      <td>2</td>\n",
              "      <td>122</td>\n",
              "      <td>70</td>\n",
              "      <td>27</td>\n",
              "      <td>0</td>\n",
              "      <td>36.8</td>\n",
              "      <td>0.340</td>\n",
              "      <td>27</td>\n",
              "      <td>0</td>\n",
              "    </tr>\n",
              "    <tr>\n",
              "      <th>765</th>\n",
              "      <td>5</td>\n",
              "      <td>121</td>\n",
              "      <td>72</td>\n",
              "      <td>23</td>\n",
              "      <td>112</td>\n",
              "      <td>26.2</td>\n",
              "      <td>0.245</td>\n",
              "      <td>30</td>\n",
              "      <td>0</td>\n",
              "    </tr>\n",
              "    <tr>\n",
              "      <th>766</th>\n",
              "      <td>1</td>\n",
              "      <td>126</td>\n",
              "      <td>60</td>\n",
              "      <td>0</td>\n",
              "      <td>0</td>\n",
              "      <td>30.1</td>\n",
              "      <td>0.349</td>\n",
              "      <td>47</td>\n",
              "      <td>1</td>\n",
              "    </tr>\n",
              "    <tr>\n",
              "      <th>767</th>\n",
              "      <td>1</td>\n",
              "      <td>93</td>\n",
              "      <td>70</td>\n",
              "      <td>31</td>\n",
              "      <td>0</td>\n",
              "      <td>30.4</td>\n",
              "      <td>0.315</td>\n",
              "      <td>23</td>\n",
              "      <td>0</td>\n",
              "    </tr>\n",
              "  </tbody>\n",
              "</table>\n",
              "</div>\n",
              "      <button class=\"colab-df-convert\" onclick=\"convertToInteractive('df-088319b7-df68-4b44-b324-08e0b14457f1')\"\n",
              "              title=\"Convert this dataframe to an interactive table.\"\n",
              "              style=\"display:none;\">\n",
              "        \n",
              "  <svg xmlns=\"http://www.w3.org/2000/svg\" height=\"24px\"viewBox=\"0 0 24 24\"\n",
              "       width=\"24px\">\n",
              "    <path d=\"M0 0h24v24H0V0z\" fill=\"none\"/>\n",
              "    <path d=\"M18.56 5.44l.94 2.06.94-2.06 2.06-.94-2.06-.94-.94-2.06-.94 2.06-2.06.94zm-11 1L8.5 8.5l.94-2.06 2.06-.94-2.06-.94L8.5 2.5l-.94 2.06-2.06.94zm10 10l.94 2.06.94-2.06 2.06-.94-2.06-.94-.94-2.06-.94 2.06-2.06.94z\"/><path d=\"M17.41 7.96l-1.37-1.37c-.4-.4-.92-.59-1.43-.59-.52 0-1.04.2-1.43.59L10.3 9.45l-7.72 7.72c-.78.78-.78 2.05 0 2.83L4 21.41c.39.39.9.59 1.41.59.51 0 1.02-.2 1.41-.59l7.78-7.78 2.81-2.81c.8-.78.8-2.07 0-2.86zM5.41 20L4 18.59l7.72-7.72 1.47 1.35L5.41 20z\"/>\n",
              "  </svg>\n",
              "      </button>\n",
              "      \n",
              "  <style>\n",
              "    .colab-df-container {\n",
              "      display:flex;\n",
              "      flex-wrap:wrap;\n",
              "      gap: 12px;\n",
              "    }\n",
              "\n",
              "    .colab-df-convert {\n",
              "      background-color: #E8F0FE;\n",
              "      border: none;\n",
              "      border-radius: 50%;\n",
              "      cursor: pointer;\n",
              "      display: none;\n",
              "      fill: #1967D2;\n",
              "      height: 32px;\n",
              "      padding: 0 0 0 0;\n",
              "      width: 32px;\n",
              "    }\n",
              "\n",
              "    .colab-df-convert:hover {\n",
              "      background-color: #E2EBFA;\n",
              "      box-shadow: 0px 1px 2px rgba(60, 64, 67, 0.3), 0px 1px 3px 1px rgba(60, 64, 67, 0.15);\n",
              "      fill: #174EA6;\n",
              "    }\n",
              "\n",
              "    [theme=dark] .colab-df-convert {\n",
              "      background-color: #3B4455;\n",
              "      fill: #D2E3FC;\n",
              "    }\n",
              "\n",
              "    [theme=dark] .colab-df-convert:hover {\n",
              "      background-color: #434B5C;\n",
              "      box-shadow: 0px 1px 3px 1px rgba(0, 0, 0, 0.15);\n",
              "      filter: drop-shadow(0px 1px 2px rgba(0, 0, 0, 0.3));\n",
              "      fill: #FFFFFF;\n",
              "    }\n",
              "  </style>\n",
              "\n",
              "      <script>\n",
              "        const buttonEl =\n",
              "          document.querySelector('#df-088319b7-df68-4b44-b324-08e0b14457f1 button.colab-df-convert');\n",
              "        buttonEl.style.display =\n",
              "          google.colab.kernel.accessAllowed ? 'block' : 'none';\n",
              "\n",
              "        async function convertToInteractive(key) {\n",
              "          const element = document.querySelector('#df-088319b7-df68-4b44-b324-08e0b14457f1');\n",
              "          const dataTable =\n",
              "            await google.colab.kernel.invokeFunction('convertToInteractive',\n",
              "                                                     [key], {});\n",
              "          if (!dataTable) return;\n",
              "\n",
              "          const docLinkHtml = 'Like what you see? Visit the ' +\n",
              "            '<a target=\"_blank\" href=https://colab.research.google.com/notebooks/data_table.ipynb>data table notebook</a>'\n",
              "            + ' to learn more about interactive tables.';\n",
              "          element.innerHTML = '';\n",
              "          dataTable['output_type'] = 'display_data';\n",
              "          await google.colab.output.renderOutput(dataTable, element);\n",
              "          const docLink = document.createElement('div');\n",
              "          docLink.innerHTML = docLinkHtml;\n",
              "          element.appendChild(docLink);\n",
              "        }\n",
              "      </script>\n",
              "    </div>\n",
              "  </div>\n",
              "  "
            ]
          },
          "metadata": {},
          "execution_count": 1
        }
      ],
      "source": [
        "#Step 1\n",
        "import pandas as pd\n",
        "import numpy as np\n",
        "import pandas as pd\n",
        "import matplotlib.pyplot as plt\n",
        "import seaborn as sns\n",
        "from sklearn.linear_model import LogisticRegression\n",
        "from sklearn.metrics import confusion_matrix, classification_report\n",
        "from sklearn.metrics import accuracy_score\n",
        "from sklearn.model_selection import train_test_split\n",
        "\n",
        "\n",
        "url = 'https://gist.githubusercontent.com/SoumenAtta/e00bd5cb6ed13a983bf48b845325c837/raw/d5e3560b8bfe97ba126b5e94bed4487c2b1ed787/diabetes.csv'\n",
        "df1 = pd.read_csv(url)\n",
        "pd.concat([df1.head(), df1.tail()])"
      ]
    },
    {
      "cell_type": "markdown",
      "metadata": {
        "id": "VE44-OzPdYE1"
      },
      "source": [
        "(Step 2) Preprocess the data to clean, remove null values, and normalize if needed."
      ]
    },
    {
      "cell_type": "code",
      "execution_count": 2,
      "metadata": {
        "id": "cOmsqw-PWrWS"
      },
      "outputs": [],
      "source": [
        "\n",
        "#Step 2 remove null\n",
        "df1 = df1.dropna()"
      ]
    },
    {
      "cell_type": "code",
      "execution_count": 3,
      "metadata": {
        "colab": {
          "base_uri": "https://localhost:8080/",
          "height": 485
        },
        "id": "LI48C1UhYNbs",
        "outputId": "b555b142-eefb-4dfb-d7c6-bf30fb390050"
      },
      "outputs": [
        {
          "output_type": "stream",
          "name": "stdout",
          "text": [
            "Series([], dtype: int64)\n"
          ]
        },
        {
          "output_type": "execute_result",
          "data": {
            "text/plain": [
              "<Axes: xlabel='Outcome', ylabel='count'>"
            ]
          },
          "metadata": {},
          "execution_count": 3
        },
        {
          "output_type": "display_data",
          "data": {
            "text/plain": [
              "<Figure size 640x480 with 1 Axes>"
            ],
            "image/png": "[encoded data removed]"
          },
          "metadata": {}
        }
      ],
      "source": [
        "normalized_data = (df1 - df1.min()) / (df1.max() - df1.min())\n",
        "\n",
        "# Check for null values in the DataFrame\n",
        "null_values = df1.isnull().sum()\n",
        "\n",
        "# Print columns with null values\n",
        "print(null_values[null_values > 0])\n",
        "\n",
        "#Check total value of outcome\n",
        "sns.countplot(x='Outcome', data=df1)"
      ]
    },
    {
      "cell_type": "code",
      "execution_count": 4,
      "metadata": {
        "colab": {
          "base_uri": "https://localhost:8080/"
        },
        "id": "kghuTlhjfwhk",
        "outputId": "03585bfb-a87e-4e18-e663-7a33303d4c5c"
      },
      "outputs": [
        {
          "output_type": "stream",
          "name": "stdout",
          "text": [
            "<class 'pandas.core.frame.DataFrame'>\n",
            "RangeIndex: 768 entries, 0 to 767\n",
            "Data columns (total 9 columns):\n",
            " #   Column                    Non-Null Count  Dtype  \n",
            "---  ------                    --------------  -----  \n",
            " 0   Pregnancies               768 non-null    int64  \n",
            " 1   Glucose                   768 non-null    int64  \n",
            " 2   BloodPressure             768 non-null    int64  \n",
            " 3   SkinThickness             768 non-null    int64  \n",
            " 4   Insulin                   768 non-null    int64  \n",
            " 5   BMI                       768 non-null    float64\n",
            " 6   DiabetesPedigreeFunction  768 non-null    float64\n",
            " 7   Age                       768 non-null    int64  \n",
            " 8   Outcome                   768 non-null    int64  \n",
            "dtypes: float64(2), int64(7)\n",
            "memory usage: 54.1 KB\n"
          ]
        }
      ],
      "source": [
        "#info of dataset\n",
        "df1.info()"
      ]
    },
    {
      "cell_type": "code",
      "execution_count": 5,
      "metadata": {
        "colab": {
          "base_uri": "https://localhost:8080/",
          "height": 206
        },
        "id": "22MaKrtsfzGE",
        "outputId": "88006c60-d510-4300-9773-571f14eba269"
      },
      "outputs": [
        {
          "output_type": "execute_result",
          "data": {
            "text/plain": [
              "   Pregnancies  Glucose  BloodPressure  SkinThickness  Insulin   BMI  \\\n",
              "0            6      148             72             35        0  33.6   \n",
              "1            1       85             66             29        0  26.6   \n",
              "2            8      183             64              0        0  23.3   \n",
              "3            1       89             66             23       94  28.1   \n",
              "4            0      137             40             35      168  43.1   \n",
              "\n",
              "   DiabetesPedigreeFunction  Age  \n",
              "0                     0.627   50  \n",
              "1                     0.351   31  \n",
              "2                     0.672   32  \n",
              "3                     0.167   21  \n",
              "4                     2.288   33  "
            ],
            "text/html": [
              "\n",
              "  <div id=\"df-16ee20c0-1da2-4661-8c46-66f81cf8236b\">\n",
              "    <div class=\"colab-df-container\">\n",
              "      <div>\n",
              "<style scoped>\n",
              "    .dataframe tbody tr th:only-of-type {\n",
              "        vertical-align: middle;\n",
              "    }\n",
              "\n",
              "    .dataframe tbody tr th {\n",
              "        vertical-align: top;\n",
              "    }\n",
              "\n",
              "    .dataframe thead th {\n",
              "        text-align: right;\n",
              "    }\n",
              "</style>\n",
              "<table border=\"1\" class=\"dataframe\">\n",
              "  <thead>\n",
              "    <tr style=\"text-align: right;\">\n",
              "      <th></th>\n",
              "      <th>Pregnancies</th>\n",
              "      <th>Glucose</th>\n",
              "      <th>BloodPressure</th>\n",
              "      <th>SkinThickness</th>\n",
              "      <th>Insulin</th>\n",
              "      <th>BMI</th>\n",
              "      <th>DiabetesPedigreeFunction</th>\n",
              "      <th>Age</th>\n",
              "    </tr>\n",
              "  </thead>\n",
              "  <tbody>\n",
              "    <tr>\n",
              "      <th>0</th>\n",
              "      <td>6</td>\n",
              "      <td>148</td>\n",
              "      <td>72</td>\n",
              "      <td>35</td>\n",
              "      <td>0</td>\n",
              "      <td>33.6</td>\n",
              "      <td>0.627</td>\n",
              "      <td>50</td>\n",
              "    </tr>\n",
              "    <tr>\n",
              "      <th>1</th>\n",
              "      <td>1</td>\n",
              "      <td>85</td>\n",
              "      <td>66</td>\n",
              "      <td>29</td>\n",
              "      <td>0</td>\n",
              "      <td>26.6</td>\n",
              "      <td>0.351</td>\n",
              "      <td>31</td>\n",
              "    </tr>\n",
              "    <tr>\n",
              "      <th>2</th>\n",
              "      <td>8</td>\n",
              "      <td>183</td>\n",
              "      <td>64</td>\n",
              "      <td>0</td>\n",
              "      <td>0</td>\n",
              "      <td>23.3</td>\n",
              "      <td>0.672</td>\n",
              "      <td>32</td>\n",
              "    </tr>\n",
              "    <tr>\n",
              "      <th>3</th>\n",
              "      <td>1</td>\n",
              "      <td>89</td>\n",
              "      <td>66</td>\n",
              "      <td>23</td>\n",
              "      <td>94</td>\n",
              "      <td>28.1</td>\n",
              "      <td>0.167</td>\n",
              "      <td>21</td>\n",
              "    </tr>\n",
              "    <tr>\n",
              "      <th>4</th>\n",
              "      <td>0</td>\n",
              "      <td>137</td>\n",
              "      <td>40</td>\n",
              "      <td>35</td>\n",
              "      <td>168</td>\n",
              "      <td>43.1</td>\n",
              "      <td>2.288</td>\n",
              "      <td>33</td>\n",
              "    </tr>\n",
              "  </tbody>\n",
              "</table>\n",
              "</div>\n",
              "      <button class=\"colab-df-convert\" onclick=\"convertToInteractive('df-16ee20c0-1da2-4661-8c46-66f81cf8236b')\"\n",
              "              title=\"Convert this dataframe to an interactive table.\"\n",
              "              style=\"display:none;\">\n",
              "        \n",
              "  <svg xmlns=\"http://www.w3.org/2000/svg\" height=\"24px\"viewBox=\"0 0 24 24\"\n",
              "       width=\"24px\">\n",
              "    <path d=\"M0 0h24v24H0V0z\" fill=\"none\"/>\n",
              "    <path d=\"M18.56 5.44l.94 2.06.94-2.06 2.06-.94-2.06-.94-.94-2.06-.94 2.06-2.06.94zm-11 1L8.5 8.5l.94-2.06 2.06-.94-2.06-.94L8.5 2.5l-.94 2.06-2.06.94zm10 10l.94 2.06.94-2.06 2.06-.94-2.06-.94-.94-2.06-.94 2.06-2.06.94z\"/><path d=\"M17.41 7.96l-1.37-1.37c-.4-.4-.92-.59-1.43-.59-.52 0-1.04.2-1.43.59L10.3 9.45l-7.72 7.72c-.78.78-.78 2.05 0 2.83L4 21.41c.39.39.9.59 1.41.59.51 0 1.02-.2 1.41-.59l7.78-7.78 2.81-2.81c.8-.78.8-2.07 0-2.86zM5.41 20L4 18.59l7.72-7.72 1.47 1.35L5.41 20z\"/>\n",
              "  </svg>\n",
              "      </button>\n",
              "      \n",
              "  <style>\n",
              "    .colab-df-container {\n",
              "      display:flex;\n",
              "      flex-wrap:wrap;\n",
              "      gap: 12px;\n",
              "    }\n",
              "\n",
              "    .colab-df-convert {\n",
              "      background-color: #E8F0FE;\n",
              "      border: none;\n",
              "      border-radius: 50%;\n",
              "      cursor: pointer;\n",
              "      display: none;\n",
              "      fill: #1967D2;\n",
              "      height: 32px;\n",
              "      padding: 0 0 0 0;\n",
              "      width: 32px;\n",
              "    }\n",
              "\n",
              "    .colab-df-convert:hover {\n",
              "      background-color: #E2EBFA;\n",
              "      box-shadow: 0px 1px 2px rgba(60, 64, 67, 0.3), 0px 1px 3px 1px rgba(60, 64, 67, 0.15);\n",
              "      fill: #174EA6;\n",
              "    }\n",
              "\n",
              "    [theme=dark] .colab-df-convert {\n",
              "      background-color: #3B4455;\n",
              "      fill: #D2E3FC;\n",
              "    }\n",
              "\n",
              "    [theme=dark] .colab-df-convert:hover {\n",
              "      background-color: #434B5C;\n",
              "      box-shadow: 0px 1px 3px 1px rgba(0, 0, 0, 0.15);\n",
              "      filter: drop-shadow(0px 1px 2px rgba(0, 0, 0, 0.3));\n",
              "      fill: #FFFFFF;\n",
              "    }\n",
              "  </style>\n",
              "\n",
              "      <script>\n",
              "        const buttonEl =\n",
              "          document.querySelector('#df-16ee20c0-1da2-4661-8c46-66f81cf8236b button.colab-df-convert');\n",
              "        buttonEl.style.display =\n",
              "          google.colab.kernel.accessAllowed ? 'block' : 'none';\n",
              "\n",
              "        async function convertToInteractive(key) {\n",
              "          const element = document.querySelector('#df-16ee20c0-1da2-4661-8c46-66f81cf8236b');\n",
              "          const dataTable =\n",
              "            await google.colab.kernel.invokeFunction('convertToInteractive',\n",
              "                                                     [key], {});\n",
              "          if (!dataTable) return;\n",
              "\n",
              "          const docLinkHtml = 'Like what you see? Visit the ' +\n",
              "            '<a target=\"_blank\" href=https://colab.research.google.com/notebooks/data_table.ipynb>data table notebook</a>'\n",
              "            + ' to learn more about interactive tables.';\n",
              "          element.innerHTML = '';\n",
              "          dataTable['output_type'] = 'display_data';\n",
              "          await google.colab.output.renderOutput(dataTable, element);\n",
              "          const docLink = document.createElement('div');\n",
              "          docLink.innerHTML = docLinkHtml;\n",
              "          element.appendChild(docLink);\n",
              "        }\n",
              "      </script>\n",
              "    </div>\n",
              "  </div>\n",
              "  "
            ]
          },
          "metadata": {},
          "execution_count": 5
        }
      ],
      "source": [
        "# Splitting the data into independent(X)\n",
        "\n",
        "X = df1.iloc[:,[0,1,2,3,4,5,6,7]] # Pregnancies, Glucose, BloodPressure, SkinThickness, Insulin, BMI, DiabetespedigreeFunction, Age\n",
        "X.head()"
      ]
    },
    {
      "cell_type": "code",
      "execution_count": 6,
      "metadata": {
        "colab": {
          "base_uri": "https://localhost:8080/"
        },
        "id": "zxsr1Tbyf6sL",
        "outputId": "f54c9358-fbf0-455c-82b2-b3bc2d5aded7"
      },
      "outputs": [
        {
          "output_type": "execute_result",
          "data": {
            "text/plain": [
              "0    1\n",
              "1    0\n",
              "2    1\n",
              "3    0\n",
              "4    1\n",
              "Name: Outcome, dtype: int64"
            ]
          },
          "metadata": {},
          "execution_count": 6
        }
      ],
      "source": [
        "# Splitting the data into independent(y)\n",
        "\n",
        "y = df1.iloc[:, 8] # Outcome\n",
        "y.head()"
      ]
    },
    {
      "cell_type": "code",
      "execution_count": 7,
      "metadata": {
        "colab": {
          "base_uri": "https://localhost:8080/"
        },
        "id": "EOEoZRknf9lz",
        "outputId": "8d94146a-38d1-4567-bbb8-36df85cb8b80"
      },
      "outputs": [
        {
          "output_type": "execute_result",
          "data": {
            "text/plain": [
              "array([[ 0.63994726,  0.84832379,  0.14964075, ...,  0.20401277,\n",
              "         0.46849198,  1.4259954 ],\n",
              "       [-0.84488505, -1.12339636, -0.16054575, ..., -0.68442195,\n",
              "        -0.36506078, -0.19067191],\n",
              "       [ 1.23388019,  1.94372388, -0.26394125, ..., -1.10325546,\n",
              "         0.60439732, -0.10558415],\n",
              "       ...,\n",
              "       [ 0.3429808 ,  0.00330087,  0.14964075, ..., -0.73518964,\n",
              "        -0.68519336, -0.27575966],\n",
              "       [-0.84488505,  0.1597866 , -0.47073225, ..., -0.24020459,\n",
              "        -0.37110101,  1.17073215],\n",
              "       [-0.84488505, -0.8730192 ,  0.04624525, ..., -0.20212881,\n",
              "        -0.47378505, -0.87137393]])"
            ]
          },
          "metadata": {},
          "execution_count": 7
        }
      ],
      "source": [
        "# normalize the range of independent variables\n",
        "from sklearn.preprocessing import StandardScaler\n",
        "sc = StandardScaler()\n",
        "X = sc.fit_transform(X)\n",
        "X"
      ]
    },
    {
      "cell_type": "markdown",
      "metadata": {
        "id": "fAjgvG6fgBcz"
      },
      "source": [
        "(Step 3) Split the dataset into training and testing subsets. Use 1) 50:50; 2)70:30; 3)80:20; and 4)90:10 ratio of training to testing data"
      ]
    },
    {
      "cell_type": "code",
      "execution_count": 8,
      "metadata": {
        "colab": {
          "base_uri": "https://localhost:8080/"
        },
        "id": "mChuXGCOf-G6",
        "outputId": "f36516a6-ea90-4737-fbb5-8e08e0ba6bae"
      },
      "outputs": [
        {
          "output_type": "stream",
          "name": "stdout",
          "text": [
            "(384, 8)\n",
            "(384, 8)\n",
            "(384,)\n",
            "(384,)\n"
          ]
        }
      ],
      "source": [
        "# Split the dataset into training and testing sets using the train_test_split function.\n",
        "\n",
        "from sklearn.model_selection import train_test_split\n",
        "\n",
        "#Test size 50:50\n",
        "X_train1, X_test1, y_train1, y_test1 = train_test_split(X, y, test_size=0.50, random_state=1)\n",
        "\n",
        "print(X_train1.shape)\n",
        "print(X_test1.shape)\n",
        "print(y_train1.shape)\n",
        "print(y_test1.shape)"
      ]
    },
    {
      "cell_type": "code",
      "execution_count": 9,
      "metadata": {
        "colab": {
          "base_uri": "https://localhost:8080/"
        },
        "id": "Yh2FSPRcgbQ-",
        "outputId": "f72f0f94-6d90-41dd-ec98-70918f11329d"
      },
      "outputs": [
        {
          "output_type": "stream",
          "name": "stdout",
          "text": [
            "(537, 8)\n",
            "(231, 8)\n",
            "(537,)\n",
            "(231,)\n"
          ]
        }
      ],
      "source": [
        "#Test size 70:30\n",
        "X_train2, X_test2, y_train2, y_test2 = train_test_split(X, y, test_size=0.30, random_state=1)\n",
        "\n",
        "print(X_train2.shape)\n",
        "print(X_test2.shape)\n",
        "print(y_train2.shape)\n",
        "print(y_test2.shape)"
      ]
    },
    {
      "cell_type": "code",
      "execution_count": 10,
      "metadata": {
        "colab": {
          "base_uri": "https://localhost:8080/"
        },
        "id": "nZYgSdqAgd6y",
        "outputId": "c1bbfa4c-63e0-4f81-bc9c-a03ad0a51449"
      },
      "outputs": [
        {
          "output_type": "stream",
          "name": "stdout",
          "text": [
            "(614, 8)\n",
            "(154, 8)\n",
            "(614,)\n",
            "(154,)\n"
          ]
        }
      ],
      "source": [
        "#Test size 80:20\n",
        "X_train3, X_test3, y_train3, y_test3 = train_test_split(X, y, test_size=0.20, random_state=1)\n",
        "\n",
        "print(X_train3.shape)\n",
        "print(X_test3.shape)\n",
        "print(y_train3.shape)\n",
        "print(y_test3.shape)"
      ]
    },
    {
      "cell_type": "code",
      "execution_count": 11,
      "metadata": {
        "colab": {
          "base_uri": "https://localhost:8080/"
        },
        "id": "s6Igv9mfgf4D",
        "outputId": "9ed620c7-4f9f-4aca-8159-2c4a11f409c8"
      },
      "outputs": [
        {
          "output_type": "stream",
          "name": "stdout",
          "text": [
            "(691, 8)\n",
            "(77, 8)\n",
            "(691,)\n",
            "(77,)\n"
          ]
        }
      ],
      "source": [
        "#Test size 90:10\n",
        "X_train4, X_test4, y_train4, y_test4 = train_test_split(X, y, test_size=0.10, random_state=1)\n",
        "\n",
        "print(X_train4.shape)\n",
        "print(X_test4.shape)\n",
        "print(y_train4.shape)\n",
        "print(y_test4.shape)"
      ]
    },
    {
      "cell_type": "code",
      "execution_count": 12,
      "metadata": {
        "colab": {
          "base_uri": "https://localhost:8080/"
        },
        "id": "wVIi4ormgiR-",
        "outputId": "b4ed6d7e-4ffb-454e-9344-edc52c88afdb"
      },
      "outputs": [
        {
          "output_type": "stream",
          "name": "stdout",
          "text": [
            "Number of samples in X_test1: 384\n",
            "Number of samples in y_test1: 384\n",
            "Number of samples in X_train1: 384\n",
            "Number of samples in y_train1: 384\n",
            "\n",
            "Number of samples in X_test2: 231\n",
            "Number of samples in y_test2: 231\n",
            "Number of samples in X_train2: 537\n",
            "Number of samples in y_train2: 537\n",
            "\n",
            "Number of samples in X_test3: 154\n",
            "Number of samples in y_test3: 154\n",
            "Number of samples in X_train3: 614\n",
            "Number of samples in y_train3: 614\n",
            "\n",
            "Number of samples in X_test4: 77\n",
            "Number of samples in y_test4: 77\n",
            "Number of samples in X_train4: 691\n",
            "Number of samples in y_train4: 691\n",
            "\n"
          ]
        }
      ],
      "source": [
        "# Check the dimensions of X_test and y_test\n",
        "print(\"Number of samples in X_test1:\", X_test1.shape[0])\n",
        "print(\"Number of samples in y_test1:\", y_test1.shape[0])\n",
        "print(\"Number of samples in X_train1:\", X_train1.shape[0])\n",
        "print(\"Number of samples in y_train1:\", y_train1.shape[0])\n",
        "print()\n",
        "print(\"Number of samples in X_test2:\", X_test2.shape[0])\n",
        "print(\"Number of samples in y_test2:\", y_test2.shape[0])\n",
        "print(\"Number of samples in X_train2:\", X_train2.shape[0])\n",
        "print(\"Number of samples in y_train2:\", y_train2.shape[0])\n",
        "print()\n",
        "print(\"Number of samples in X_test3:\", X_test3.shape[0])\n",
        "print(\"Number of samples in y_test3:\", y_test3.shape[0])\n",
        "print(\"Number of samples in X_train3:\", X_train3.shape[0])\n",
        "print(\"Number of samples in y_train3:\", y_train3.shape[0])\n",
        "print()\n",
        "print(\"Number of samples in X_test4:\", X_test4.shape[0])\n",
        "print(\"Number of samples in y_test4:\", y_test4.shape[0])\n",
        "print(\"Number of samples in X_train4:\", X_train4.shape[0])\n",
        "print(\"Number of samples in y_train4:\", y_train4.shape[0])\n",
        "print()"
      ]
    },
    {
      "cell_type": "markdown",
      "metadata": {
        "id": "vYpwVzg8gnrj"
      },
      "source": [
        "(Step 4) Perform logistic regression on the training data and show the training accuracy"
      ]
    },
    {
      "cell_type": "code",
      "execution_count": 13,
      "metadata": {
        "colab": {
          "base_uri": "https://localhost:8080/"
        },
        "id": "-PXW3yA3gunF",
        "outputId": "d35eaa17-1999-4343-bd2e-fd72a52668cf"
      },
      "outputs": [
        {
          "output_type": "stream",
          "name": "stdout",
          "text": [
            "     Actual(Trained)  Predicted\n",
            "555                0          0\n",
            "142                0          0\n",
            "618                1          0\n",
            "6                  1          0\n",
            "267                0          0\n",
            "..               ...        ...\n",
            "645                0          1\n",
            "715                1          1\n",
            "72                 1          1\n",
            "235                1          1\n",
            "37                 1          0\n",
            "\n",
            "[384 rows x 2 columns]\n",
            "\n",
            "Training Accuracy: 0.78125\n"
          ]
        }
      ],
      "source": [
        "## (For test size 50:50)\n",
        "# Training the logistic regression model\n",
        "from sklearn.linear_model import LogisticRegression\n",
        "classifier = LogisticRegression()\n",
        "classifier.fit(X_train1, y_train1)\n",
        "\n",
        "#Perform prediction\n",
        "y_pred1 = classifier.predict(X_train1)\n",
        "\n",
        "#create panda dataframe then compare predicted and actual data\n",
        "result = pd.DataFrame({'Actual(Trained)' : y_train1, 'Predicted' : y_pred1})\n",
        "print(result)\n",
        "print()\n",
        "\n",
        "from sklearn.metrics import accuracy_score\n",
        "# Calculate the training accuracy\n",
        "training_accuracy1 = accuracy_score(y_train1, y_pred1)\n",
        "\n",
        "# Print the training accuracy\n",
        "print(\"Training Accuracy:\", training_accuracy1)"
      ]
    },
    {
      "cell_type": "code",
      "execution_count": 14,
      "metadata": {
        "colab": {
          "base_uri": "https://localhost:8080/"
        },
        "id": "PdaGyLhkgyEz",
        "outputId": "44ade819-af58-4b5d-a475-43c2f513aac5"
      },
      "outputs": [
        {
          "output_type": "stream",
          "name": "stdout",
          "text": [
            "     Actual(Trained)  Predicted\n",
            "88                 1          1\n",
            "467                0          0\n",
            "550                0          0\n",
            "147                0          0\n",
            "481                0          0\n",
            "..               ...        ...\n",
            "645                0          1\n",
            "715                1          1\n",
            "72                 1          1\n",
            "235                1          1\n",
            "37                 1          0\n",
            "\n",
            "[537 rows x 2 columns]\n",
            "\n",
            "Training Accuracy: 0.7746741154562383\n"
          ]
        }
      ],
      "source": [
        "## (For test size 70:30)\n",
        "# Training the logistic regression model\n",
        "from sklearn.linear_model import LogisticRegression\n",
        "classifier = LogisticRegression()\n",
        "classifier.fit(X_train2, y_train2)\n",
        "\n",
        "#Perform prediction\n",
        "y_pred2 = classifier.predict(X_train2)\n",
        "\n",
        "#create panda dataframe then compare predicted and actual data\n",
        "result = pd.DataFrame({'Actual(Trained)' : y_train2, 'Predicted' : y_pred2})\n",
        "print(result)\n",
        "print()\n",
        "\n",
        "from sklearn.metrics import accuracy_score\n",
        "# Calculate the training accuracy\n",
        "training_accuracy2 = accuracy_score(y_train2, y_pred2)\n",
        "\n",
        "# Print the training accuracy\n",
        "print(\"Training Accuracy:\", training_accuracy2)"
      ]
    },
    {
      "cell_type": "code",
      "execution_count": null,
      "metadata": {
        "id": "11I82s7Og2hs"
      },
      "outputs": [],
      "source": [
        "## (For test size 80:20)\n",
        "# Training the logistic regression model\n",
        "from sklearn.linear_model import LogisticRegression\n",
        "classifier = LogisticRegression()\n",
        "classifier.fit(X_train3, y_train3)\n",
        "\n",
        "#Perform prediction\n",
        "y_pred3 = classifier.predict(X_train3)\n",
        "\n",
        "#create panda dataframe then compare predicted and actual data\n",
        "result = pd.DataFrame({'Actual(Trained)' : y_train3, 'Predicted' : y_pred3})\n",
        "print(result)\n",
        "print()\n",
        "\n",
        "from sklearn.metrics import accuracy_score\n",
        "# Calculate the training accuracy\n",
        "training_accuracy3 = accuracy_score(y_train3, y_pred3)\n",
        "\n",
        "# Print the training accuracy\n",
        "print(\"Training Accuracy:\", training_accuracy3)"
      ]
    },
    {
      "cell_type": "code",
      "execution_count": 16,
      "metadata": {
        "colab": {
          "base_uri": "https://localhost:8080/"
        },
        "id": "AntzFFdPg7-N",
        "outputId": "db7bb6c3-af08-40ed-8598-2eba6b2ff1f3"
      },
      "outputs": [
        {
          "output_type": "stream",
          "name": "stdout",
          "text": [
            "     Actual(Trained)  Predicted\n",
            "69                 0          0\n",
            "382                0          0\n",
            "195                1          1\n",
            "84                 1          1\n",
            "442                0          0\n",
            "..               ...        ...\n",
            "645                0          1\n",
            "715                1          1\n",
            "72                 1          1\n",
            "235                1          1\n",
            "37                 1          0\n",
            "\n",
            "[691 rows x 2 columns]\n",
            "\n",
            "Training Accuracy: 0.7800289435600579\n"
          ]
        }
      ],
      "source": [
        "## (For test size 90:10)\n",
        "# Training the logistic regression model\n",
        "from sklearn.linear_model import LogisticRegression\n",
        "classifier = LogisticRegression()\n",
        "classifier.fit(X_train4, y_train4)\n",
        "\n",
        "#Perform prediction\n",
        "y_pred4 = classifier.predict(X_train4)\n",
        "\n",
        "#create panda dataframe then compare predicted and actual data\n",
        "result = pd.DataFrame({'Actual(Trained)' : y_train4, 'Predicted' : y_pred4})\n",
        "print(result)\n",
        "print()\n",
        "\n",
        "from sklearn.metrics import accuracy_score\n",
        "# Calculate the training accuracy\n",
        "training_accuracy4 = accuracy_score(y_train4, y_pred4)\n",
        "\n",
        "# Print the training accuracy\n",
        "print(\"Training Accuracy:\", training_accuracy4)"
      ]
    },
    {
      "cell_type": "markdown",
      "metadata": {
        "id": "pCRAsO1UhDJU"
      },
      "source": [
        "(Step 5) Use the trained model to make predictions on the testing data.\n",
        "---\n",
        "\n"
      ]
    },
    {
      "cell_type": "code",
      "execution_count": 17,
      "metadata": {
        "colab": {
          "base_uri": "https://localhost:8080/"
        },
        "id": "8MlCvX3MdaLQ",
        "outputId": "3f30217a-85db-47bb-db60-1120a74ab155"
      },
      "outputs": [
        {
          "output_type": "stream",
          "name": "stdout",
          "text": [
            "[[0.28327238 0.71672762]\n",
            " [0.95048133 0.04951867]\n",
            " [0.21057184 0.78942816]\n",
            " ...\n",
            " [0.82404661 0.17595339]\n",
            " [0.71861099 0.28138901]\n",
            " [0.9267883  0.0732117 ]]\n"
          ]
        }
      ],
      "source": [
        "print(classifier.predict_proba(X))"
      ]
    },
    {
      "cell_type": "code",
      "execution_count": 18,
      "metadata": {
        "colab": {
          "base_uri": "https://localhost:8080/"
        },
        "id": "eBKdKh_7atfd",
        "outputId": "857aa35d-9ae4-4ae9-e7b0-761cfa05176a"
      },
      "outputs": [
        {
          "output_type": "stream",
          "name": "stdout",
          "text": [
            "     Actual(Trained)  Predicted\n",
            "285                0          1\n",
            "101                0          0\n",
            "581                0          0\n",
            "352                0          0\n",
            "726                0          0\n",
            "..               ...        ...\n",
            "574                0          0\n",
            "379                0          0\n",
            "191                0          1\n",
            "414                1          0\n",
            "343                0          0\n",
            "\n",
            "[384 rows x 2 columns]\n",
            "\n",
            "Testing Accuracy: 0.7682291666666666\n"
          ]
        }
      ],
      "source": [
        "## (For test size 50:50)\n",
        "# Training the logistic regression model\n",
        "from sklearn.linear_model import LogisticRegression\n",
        "classifier = LogisticRegression()\n",
        "classifier.fit(X_test1, y_test1)\n",
        "\n",
        "#Perform prediction\n",
        "y_pred11 = classifier.predict(X_test1)\n",
        "\n",
        "#create panda dataframe then compare predicted and actual data\n",
        "result = pd.DataFrame({'Actual(Trained)' : y_test1, 'Predicted' : y_pred11})\n",
        "print(result)\n",
        "print()\n",
        "\n",
        "from sklearn.metrics import accuracy_score\n",
        "# Calculate the training accuracy\n",
        "testing_accuracy1 = accuracy_score(y_test1, y_pred11)\n",
        "\n",
        "# Print the training accuracy\n",
        "print(\"Testing Accuracy:\", testing_accuracy1)"
      ]
    },
    {
      "cell_type": "code",
      "execution_count": 23,
      "metadata": {
        "colab": {
          "base_uri": "https://localhost:8080/"
        },
        "id": "mwutVXHPaxnO",
        "outputId": "7468140e-c19d-4cf4-e7ce-e1b4371faa50"
      },
      "outputs": [
        {
          "output_type": "stream",
          "name": "stdout",
          "text": [
            "     Actual(Trained)  Predicted\n",
            "285                0          1\n",
            "101                0          0\n",
            "581                0          0\n",
            "352                0          0\n",
            "726                0          0\n",
            "..               ...        ...\n",
            "241                0          0\n",
            "599                0          0\n",
            "650                0          0\n",
            "11                 1          1\n",
            "214                1          0\n",
            "\n",
            "[231 rows x 2 columns]\n",
            "\n",
            "Testing Accuracy: 0.8051948051948052\n"
          ]
        }
      ],
      "source": [
        "## (For test size 70:30)\n",
        "# Training the logistic regression model\n",
        "from sklearn.linear_model import LogisticRegression\n",
        "classifier = LogisticRegression()\n",
        "classifier.fit(X_test2, y_test2)\n",
        "\n",
        "#Perform prediction\n",
        "y_pred22 = classifier.predict(X_test2)\n",
        "\n",
        "#create panda dataframe then compare predicted and actual data\n",
        "result = pd.DataFrame({'Actual(Trained)' : y_test2, 'Predicted' : y_pred22})\n",
        "print(result)\n",
        "print()\n",
        "\n",
        "from sklearn.metrics import accuracy_score\n",
        "# Calculate the training accuracy\n",
        "testing_accuracy2 = accuracy_score(y_test2, y_pred22)\n",
        "\n",
        "# Print the training accuracy\n",
        "print(\"Testing Accuracy:\", testing_accuracy2)"
      ]
    },
    {
      "cell_type": "code",
      "execution_count": 24,
      "metadata": {
        "colab": {
          "base_uri": "https://localhost:8080/"
        },
        "id": "iPo4SeSoa270",
        "outputId": "04ee9cad-8a09-4c3b-e806-1463a6829191"
      },
      "outputs": [
        {
          "output_type": "stream",
          "name": "stdout",
          "text": [
            "     Actual(Trained)  Predicted\n",
            "285                0          1\n",
            "101                0          0\n",
            "581                0          0\n",
            "352                0          0\n",
            "726                0          0\n",
            "..               ...        ...\n",
            "563                0          0\n",
            "318                0          0\n",
            "154                1          1\n",
            "684                0          0\n",
            "643                0          0\n",
            "\n",
            "[154 rows x 2 columns]\n",
            "\n",
            "Testing Accuracy: 0.7792207792207793\n"
          ]
        }
      ],
      "source": [
        "## (For test size 80:20)\n",
        "# Training the logistic regression model\n",
        "from sklearn.linear_model import LogisticRegression\n",
        "classifier = LogisticRegression()\n",
        "classifier.fit(X_test3, y_test3)\n",
        "\n",
        "#Perform prediction\n",
        "y_pred33 = classifier.predict(X_test3)\n",
        "\n",
        "#create panda dataframe then compare predicted and actual data\n",
        "result = pd.DataFrame({'Actual(Trained)' : y_test3, 'Predicted' : y_pred33})\n",
        "print(result)\n",
        "print()\n",
        "\n",
        "from sklearn.metrics import accuracy_score\n",
        "# Calculate the training accuracy\n",
        "testing_accuracy3 = accuracy_score(y_test3, y_pred33)\n",
        "\n",
        "# Print the training accuracy\n",
        "print(\"Testing Accuracy:\", testing_accuracy3)"
      ]
    },
    {
      "cell_type": "code",
      "execution_count": 25,
      "metadata": {
        "colab": {
          "base_uri": "https://localhost:8080/"
        },
        "id": "i7ZmhRFIa5RW",
        "outputId": "6a84d807-ca8c-4e5d-9930-ac2ab574b2fe"
      },
      "outputs": [
        {
          "output_type": "stream",
          "name": "stdout",
          "text": [
            "     Actual(Trained)  Predicted\n",
            "285                0          1\n",
            "101                0          0\n",
            "581                0          0\n",
            "352                0          0\n",
            "726                0          0\n",
            "..               ...        ...\n",
            "699                0          1\n",
            "680                0          0\n",
            "754                1          1\n",
            "23                 1          0\n",
            "394                1          1\n",
            "\n",
            "[77 rows x 2 columns]\n",
            "\n",
            "Testing Accuracy: 0.7792207792207793\n"
          ]
        }
      ],
      "source": [
        "## (For test size 90:10)\n",
        "# Training the logistic regression model\n",
        "from sklearn.linear_model import LogisticRegression\n",
        "classifier = LogisticRegression()\n",
        "classifier.fit(X_test4, y_test4)\n",
        "\n",
        "#Perform prediction\n",
        "y_pred44 = classifier.predict(X_test4)\n",
        "\n",
        "#create panda dataframe then compare predicted and actual data\n",
        "result = pd.DataFrame({'Actual(Trained)' : y_test4, 'Predicted' : y_pred44})\n",
        "print(result)\n",
        "print()\n",
        "\n",
        "from sklearn.metrics import accuracy_score\n",
        "# Calculate the training accuracy\n",
        "testing_accuracy4 = accuracy_score(y_test4, y_pred44)\n",
        "\n",
        "# Print the training accuracy\n",
        "print(\"Testing Accuracy:\", testing_accuracy4)"
      ]
    },
    {
      "cell_type": "markdown",
      "metadata": {
        "id": "nM31MKdhbGpv"
      },
      "source": [
        "(Step 6) Evaluate the model's performance using appropriate metrics such as accuracy, true positive rate and true negative rate"
      ]
    },
    {
      "cell_type": "code",
      "execution_count": 26,
      "metadata": {
        "colab": {
          "base_uri": "https://localhost:8080/"
        },
        "id": "LrPmGfTEbOrd",
        "outputId": "4fbefa12-14fc-43d6-9bf3-7da532c1c9e1"
      },
      "outputs": [
        {
          "output_type": "stream",
          "name": "stdout",
          "text": [
            "[[0.30122636 0.69877364]\n",
            " [0.94185671 0.05814329]\n",
            " [0.26344765 0.73655235]\n",
            " ...\n",
            " [0.83980223 0.16019777]\n",
            " [0.67462153 0.32537847]\n",
            " [0.92225221 0.07774779]]\n"
          ]
        }
      ],
      "source": [
        "print(classifier.predict_proba(X))"
      ]
    },
    {
      "cell_type": "code",
      "source": [
        "from sklearn.metrics import confusion_matrix\n",
        "cf_matrix = confusion_matrix(y_test, y_pred)\n",
        "cf_matrix"
      ],
      "metadata": {
        "colab": {
          "base_uri": "https://localhost:8080/",
          "height": 205
        },
        "id": "xXvXXiQZYetV",
        "outputId": "9953bc34-0f43-44c3-d6fc-f6f669a20403"
      },
      "execution_count": 27,
      "outputs": [
        {
          "output_type": "error",
          "ename": "NameError",
          "evalue": "ignored",
          "traceback": [
            "\u001b[0;31m---------------------------------------------------------------------------\u001b[0m",
            "\u001b[0;31mNameError\u001b[0m                                 Traceback (most recent call last)",
            "\u001b[0;32m<ipython-input-27-12fb630701be>\u001b[0m in \u001b[0;36m<cell line: 2>\u001b[0;34m()\u001b[0m\n\u001b[1;32m      1\u001b[0m \u001b[0;32mfrom\u001b[0m \u001b[0msklearn\u001b[0m\u001b[0;34m.\u001b[0m\u001b[0mmetrics\u001b[0m \u001b[0;32mimport\u001b[0m \u001b[0mconfusion_matrix\u001b[0m\u001b[0;34m\u001b[0m\u001b[0;34m\u001b[0m\u001b[0m\n\u001b[0;32m----> 2\u001b[0;31m \u001b[0mcf_matrix\u001b[0m \u001b[0;34m=\u001b[0m \u001b[0mconfusion_matrix\u001b[0m\u001b[0;34m(\u001b[0m\u001b[0my_test\u001b[0m\u001b[0;34m,\u001b[0m \u001b[0my_pred\u001b[0m\u001b[0;34m)\u001b[0m\u001b[0;34m\u001b[0m\u001b[0;34m\u001b[0m\u001b[0m\n\u001b[0m\u001b[1;32m      3\u001b[0m \u001b[0mcf_matrix\u001b[0m\u001b[0;34m\u001b[0m\u001b[0;34m\u001b[0m\u001b[0m\n",
            "\u001b[0;31mNameError\u001b[0m: name 'y_test' is not defined"
          ]
        }
      ]
    },
    {
      "cell_type": "code",
      "source": [
        "from sklearn.metrics import accuracy_score #accuracy\n",
        "\n",
        "accuracy_score(y_test,y_pred)"
      ],
      "metadata": {
        "colab": {
          "base_uri": "https://localhost:8080/",
          "height": 205
        },
        "id": "MN9zwn2HYoJV",
        "outputId": "19770b4a-f76b-476e-ea9f-ad5a9f6d8ba7"
      },
      "execution_count": 28,
      "outputs": [
        {
          "output_type": "error",
          "ename": "NameError",
          "evalue": "ignored",
          "traceback": [
            "\u001b[0;31m---------------------------------------------------------------------------\u001b[0m",
            "\u001b[0;31mNameError\u001b[0m                                 Traceback (most recent call last)",
            "\u001b[0;32m<ipython-input-28-3090186aa2aa>\u001b[0m in \u001b[0;36m<cell line: 3>\u001b[0;34m()\u001b[0m\n\u001b[1;32m      1\u001b[0m \u001b[0;32mfrom\u001b[0m \u001b[0msklearn\u001b[0m\u001b[0;34m.\u001b[0m\u001b[0mmetrics\u001b[0m \u001b[0;32mimport\u001b[0m \u001b[0maccuracy_score\u001b[0m \u001b[0;31m#accuracy\u001b[0m\u001b[0;34m\u001b[0m\u001b[0;34m\u001b[0m\u001b[0m\n\u001b[1;32m      2\u001b[0m \u001b[0;34m\u001b[0m\u001b[0m\n\u001b[0;32m----> 3\u001b[0;31m \u001b[0maccuracy_score\u001b[0m\u001b[0;34m(\u001b[0m\u001b[0my_test\u001b[0m\u001b[0;34m,\u001b[0m\u001b[0my_pred\u001b[0m\u001b[0;34m)\u001b[0m\u001b[0;34m\u001b[0m\u001b[0;34m\u001b[0m\u001b[0m\n\u001b[0m",
            "\u001b[0;31mNameError\u001b[0m: name 'y_test' is not defined"
          ]
        }
      ]
    },
    {
      "cell_type": "code",
      "source": [
        "from sklearn.metrics import recall_score #true positive rate\n",
        "recall_score(y_test, y_pred)"
      ],
      "metadata": {
        "colab": {
          "base_uri": "https://localhost:8080/",
          "height": 187
        },
        "id": "CUEAG0l9Y8vl",
        "outputId": "e71b269b-b404-467a-ae9b-c00d1ea25714"
      },
      "execution_count": 29,
      "outputs": [
        {
          "output_type": "error",
          "ename": "NameError",
          "evalue": "ignored",
          "traceback": [
            "\u001b[0;31m---------------------------------------------------------------------------\u001b[0m",
            "\u001b[0;31mNameError\u001b[0m                                 Traceback (most recent call last)",
            "\u001b[0;32m<ipython-input-29-5ab23fe68a06>\u001b[0m in \u001b[0;36m<cell line: 2>\u001b[0;34m()\u001b[0m\n\u001b[1;32m      1\u001b[0m \u001b[0;32mfrom\u001b[0m \u001b[0msklearn\u001b[0m\u001b[0;34m.\u001b[0m\u001b[0mmetrics\u001b[0m \u001b[0;32mimport\u001b[0m \u001b[0mrecall_score\u001b[0m \u001b[0;31m#true positive rate\u001b[0m\u001b[0;34m\u001b[0m\u001b[0;34m\u001b[0m\u001b[0m\n\u001b[0;32m----> 2\u001b[0;31m \u001b[0mrecall_score\u001b[0m\u001b[0;34m(\u001b[0m\u001b[0my_test\u001b[0m\u001b[0;34m,\u001b[0m \u001b[0my_pred\u001b[0m\u001b[0;34m)\u001b[0m\u001b[0;34m\u001b[0m\u001b[0;34m\u001b[0m\u001b[0m\n\u001b[0m",
            "\u001b[0;31mNameError\u001b[0m: name 'y_test' is not defined"
          ]
        }
      ]
    },
    {
      "cell_type": "code",
      "source": [
        "def calculate_true_negative_rate(tn, fp):\n",
        "    return tn / (tn + fp)\n",
        "\n",
        "# Calculate true negative rate\n",
        "tnr = calculate_true_negative_rate(tn, fp)\n",
        "print(\"True Negative Rate (Sensitivity):\", tnr)"
      ],
      "metadata": {
        "colab": {
          "base_uri": "https://localhost:8080/",
          "height": 223
        },
        "id": "52id8bflY-8T",
        "outputId": "98075650-e333-4a59-ddeb-37867d7fdfa8"
      },
      "execution_count": 30,
      "outputs": [
        {
          "output_type": "error",
          "ename": "NameError",
          "evalue": "ignored",
          "traceback": [
            "\u001b[0;31m---------------------------------------------------------------------------\u001b[0m",
            "\u001b[0;31mNameError\u001b[0m                                 Traceback (most recent call last)",
            "\u001b[0;32m<ipython-input-30-6ed8852c3f9f>\u001b[0m in \u001b[0;36m<cell line: 5>\u001b[0;34m()\u001b[0m\n\u001b[1;32m      3\u001b[0m \u001b[0;34m\u001b[0m\u001b[0m\n\u001b[1;32m      4\u001b[0m \u001b[0;31m# Calculate true negative rate\u001b[0m\u001b[0;34m\u001b[0m\u001b[0;34m\u001b[0m\u001b[0m\n\u001b[0;32m----> 5\u001b[0;31m \u001b[0mtnr\u001b[0m \u001b[0;34m=\u001b[0m \u001b[0mcalculate_true_negative_rate\u001b[0m\u001b[0;34m(\u001b[0m\u001b[0mtn\u001b[0m\u001b[0;34m,\u001b[0m \u001b[0mfp\u001b[0m\u001b[0;34m)\u001b[0m\u001b[0;34m\u001b[0m\u001b[0;34m\u001b[0m\u001b[0m\n\u001b[0m\u001b[1;32m      6\u001b[0m \u001b[0mprint\u001b[0m\u001b[0;34m(\u001b[0m\u001b[0;34m\"True Negative Rate (Sensitivity):\"\u001b[0m\u001b[0;34m,\u001b[0m \u001b[0mtnr\u001b[0m\u001b[0;34m)\u001b[0m\u001b[0;34m\u001b[0m\u001b[0;34m\u001b[0m\u001b[0m\n",
            "\u001b[0;31mNameError\u001b[0m: name 'tn' is not defined"
          ]
        }
      ]
    },
    {
      "cell_type": "code",
      "source": [
        "target_names = ['will NOT PURCHASE', 'will PURCHASE']\n",
        "print(classification_report(y_test, y_pred,target_names=target_names))"
      ],
      "metadata": {
        "colab": {
          "base_uri": "https://localhost:8080/",
          "height": 187
        },
        "id": "4sENYSB3ZfLV",
        "outputId": "4e7b5934-61f8-415f-fd06-d227ad850a67"
      },
      "execution_count": 31,
      "outputs": [
        {
          "output_type": "error",
          "ename": "NameError",
          "evalue": "ignored",
          "traceback": [
            "\u001b[0;31m---------------------------------------------------------------------------\u001b[0m",
            "\u001b[0;31mNameError\u001b[0m                                 Traceback (most recent call last)",
            "\u001b[0;32m<ipython-input-31-de4b6b2f57a6>\u001b[0m in \u001b[0;36m<cell line: 2>\u001b[0;34m()\u001b[0m\n\u001b[1;32m      1\u001b[0m \u001b[0mtarget_names\u001b[0m \u001b[0;34m=\u001b[0m \u001b[0;34m[\u001b[0m\u001b[0;34m'will NOT PURCHASE'\u001b[0m\u001b[0;34m,\u001b[0m \u001b[0;34m'will PURCHASE'\u001b[0m\u001b[0;34m]\u001b[0m\u001b[0;34m\u001b[0m\u001b[0;34m\u001b[0m\u001b[0m\n\u001b[0;32m----> 2\u001b[0;31m \u001b[0mprint\u001b[0m\u001b[0;34m(\u001b[0m\u001b[0mclassification_report\u001b[0m\u001b[0;34m(\u001b[0m\u001b[0my_test\u001b[0m\u001b[0;34m,\u001b[0m \u001b[0my_pred\u001b[0m\u001b[0;34m,\u001b[0m\u001b[0mtarget_names\u001b[0m\u001b[0;34m=\u001b[0m\u001b[0mtarget_names\u001b[0m\u001b[0;34m)\u001b[0m\u001b[0;34m)\u001b[0m\u001b[0;34m\u001b[0m\u001b[0;34m\u001b[0m\u001b[0m\n\u001b[0m",
            "\u001b[0;31mNameError\u001b[0m: name 'y_test' is not defined"
          ]
        }
      ]
    },
    {
      "cell_type": "markdown",
      "metadata": {
        "id": "ZS4TnA5BbN8W"
      },
      "source": [
        "(Step 7) Visualize the model's performance using appropriate charts such as a confusion matrix."
      ]
    },
    {
      "cell_type": "code",
      "execution_count": null,
      "metadata": {
        "colab": {
          "base_uri": "https://localhost:8080/",
          "height": 526
        },
        "id": "4ZpIIgZXWwxo",
        "outputId": "51b6daf1-68b1-46df-86e2-83a6ce6f27b4"
      },
      "outputs": [
        {
          "output_type": "execute_result",
          "data": {
            "text/plain": [
              "Text(0.5, 23.52222222222222, 'Predicted label')"
            ]
          },
          "metadata": {},
          "execution_count": 396
        },
        {
          "output_type": "display_data",
          "data": {
            "text/plain": [
              "<Figure size 640x480 with 2 Axes>"
            ],
            "image/png": "[encoded data removed]"
          },
          "metadata": {}
        }
      ],
      "source": [
        "sns.heatmap(pd.DataFrame(cf_matrix), annot=True, cmap=\"YlGnBu\" ,fmt='g')\n",
        "plt.title('Confusion matrix', y=1.1)\n",
        "plt.ylabel('Actual label')\n",
        "plt.xlabel('Predicted label')"
      ]
    }
  ],
  "metadata": {
    "colab": {
      "provenance": [],
      "include_colab_link": true
    },
    "kernelspec": {
      "display_name": "Python 3",
      "name": "python3"
    },
    "language_info": {
      "name": "python"
    }
  },
  "nbformat": 4,
  "nbformat_minor": 0
}